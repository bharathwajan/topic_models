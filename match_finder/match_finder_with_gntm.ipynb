{
 "cells": [
  {
   "attachments": {},
   "cell_type": "markdown",
   "metadata": {},
   "source": [
    "# PLSA 5 topics news 20"
   ]
  },
  {
   "cell_type": "code",
   "execution_count": 1,
   "metadata": {},
   "outputs": [
    {
     "name": "stderr",
     "output_type": "stream",
     "text": [
      "c:\\anaconda\\envs\\machine_learning\\lib\\site-packages\\numpy\\_distributor_init.py:30: UserWarning: loaded more than 1 DLL from .libs:\n",
      "c:\\anaconda\\envs\\machine_learning\\lib\\site-packages\\numpy\\.libs\\libopenblas.GK7GX5KEQ4F6UYO3P26ULGBQYHGQO7J4.gfortran-win_amd64.dll\n",
      "c:\\anaconda\\envs\\machine_learning\\lib\\site-packages\\numpy\\.libs\\libopenblas.PYQHXLVVQ7VESDPUVUADXEVJOBGHJPAY.gfortran-win_amd64.dll\n",
      "  warnings.warn(\"loaded more than 1 DLL from .libs:\"\n"
     ]
    }
   ],
   "source": [
    "import pandas as pd\n",
    "gntm=pd.read_csv(\"../nb_outputs/news_20/gntm_topic_5.csv\")\n",
    "gntm.drop([\"Unnamed: 0\"],axis=1,inplace=True)\n",
    "\n",
    "plsa_5top=pd.read_csv(\"../plsa_outputs/news_20/5_topics.csv\")\n",
    "plsa_5top.drop([\"Unnamed: 0\"],axis=1,inplace=True)\n"
   ]
  },
  {
   "cell_type": "code",
   "execution_count": 3,
   "metadata": {},
   "outputs": [
    {
     "data": {
      "text/html": [
       "<div>\n",
       "<style scoped>\n",
       "    .dataframe tbody tr th:only-of-type {\n",
       "        vertical-align: middle;\n",
       "    }\n",
       "\n",
       "    .dataframe tbody tr th {\n",
       "        vertical-align: top;\n",
       "    }\n",
       "\n",
       "    .dataframe thead th {\n",
       "        text-align: right;\n",
       "    }\n",
       "</style>\n",
       "<table border=\"1\" class=\"dataframe\">\n",
       "  <thead>\n",
       "    <tr style=\"text-align: right;\">\n",
       "      <th></th>\n",
       "      <th>0</th>\n",
       "      <th>1</th>\n",
       "      <th>2</th>\n",
       "      <th>3</th>\n",
       "      <th>4</th>\n",
       "    </tr>\n",
       "  </thead>\n",
       "  <tbody>\n",
       "    <tr>\n",
       "      <th>0</th>\n",
       "      <td>0.105263</td>\n",
       "      <td>0.210526</td>\n",
       "      <td>0.210526</td>\n",
       "      <td>0.263158</td>\n",
       "      <td>0.210526</td>\n",
       "    </tr>\n",
       "    <tr>\n",
       "      <th>1</th>\n",
       "      <td>0.000000</td>\n",
       "      <td>0.250000</td>\n",
       "      <td>0.250000</td>\n",
       "      <td>0.250000</td>\n",
       "      <td>0.250000</td>\n",
       "    </tr>\n",
       "    <tr>\n",
       "      <th>2</th>\n",
       "      <td>0.000000</td>\n",
       "      <td>0.333333</td>\n",
       "      <td>0.000000</td>\n",
       "      <td>0.333333</td>\n",
       "      <td>0.333333</td>\n",
       "    </tr>\n",
       "    <tr>\n",
       "      <th>3</th>\n",
       "      <td>0.000000</td>\n",
       "      <td>0.000000</td>\n",
       "      <td>1.000000</td>\n",
       "      <td>0.000000</td>\n",
       "      <td>0.000000</td>\n",
       "    </tr>\n",
       "    <tr>\n",
       "      <th>4</th>\n",
       "      <td>0.333333</td>\n",
       "      <td>0.266667</td>\n",
       "      <td>0.066667</td>\n",
       "      <td>0.066667</td>\n",
       "      <td>0.266667</td>\n",
       "    </tr>\n",
       "    <tr>\n",
       "      <th>...</th>\n",
       "      <td>...</td>\n",
       "      <td>...</td>\n",
       "      <td>...</td>\n",
       "      <td>...</td>\n",
       "      <td>...</td>\n",
       "    </tr>\n",
       "    <tr>\n",
       "      <th>10738</th>\n",
       "      <td>0.000000</td>\n",
       "      <td>0.333333</td>\n",
       "      <td>0.333333</td>\n",
       "      <td>0.000000</td>\n",
       "      <td>0.333333</td>\n",
       "    </tr>\n",
       "    <tr>\n",
       "      <th>10739</th>\n",
       "      <td>0.200000</td>\n",
       "      <td>0.200000</td>\n",
       "      <td>0.200000</td>\n",
       "      <td>0.200000</td>\n",
       "      <td>0.200000</td>\n",
       "    </tr>\n",
       "    <tr>\n",
       "      <th>10740</th>\n",
       "      <td>0.000000</td>\n",
       "      <td>0.250000</td>\n",
       "      <td>0.250000</td>\n",
       "      <td>0.250000</td>\n",
       "      <td>0.250000</td>\n",
       "    </tr>\n",
       "    <tr>\n",
       "      <th>10741</th>\n",
       "      <td>0.260870</td>\n",
       "      <td>0.260870</td>\n",
       "      <td>0.130435</td>\n",
       "      <td>0.130435</td>\n",
       "      <td>0.217391</td>\n",
       "    </tr>\n",
       "    <tr>\n",
       "      <th>10742</th>\n",
       "      <td>0.000000</td>\n",
       "      <td>0.000000</td>\n",
       "      <td>1.000000</td>\n",
       "      <td>0.000000</td>\n",
       "      <td>0.000000</td>\n",
       "    </tr>\n",
       "  </tbody>\n",
       "</table>\n",
       "<p>10743 rows × 5 columns</p>\n",
       "</div>"
      ],
      "text/plain": [
       "              0         1         2         3         4\n",
       "0      0.105263  0.210526  0.210526  0.263158  0.210526\n",
       "1      0.000000  0.250000  0.250000  0.250000  0.250000\n",
       "2      0.000000  0.333333  0.000000  0.333333  0.333333\n",
       "3      0.000000  0.000000  1.000000  0.000000  0.000000\n",
       "4      0.333333  0.266667  0.066667  0.066667  0.266667\n",
       "...         ...       ...       ...       ...       ...\n",
       "10738  0.000000  0.333333  0.333333  0.000000  0.333333\n",
       "10739  0.200000  0.200000  0.200000  0.200000  0.200000\n",
       "10740  0.000000  0.250000  0.250000  0.250000  0.250000\n",
       "10741  0.260870  0.260870  0.130435  0.130435  0.217391\n",
       "10742  0.000000  0.000000  1.000000  0.000000  0.000000\n",
       "\n",
       "[10743 rows x 5 columns]"
      ]
     },
     "execution_count": 3,
     "metadata": {},
     "output_type": "execute_result"
    }
   ],
   "source": [
    "plsa_5top.shape,gntm.shape\n",
    "gntm"
   ]
  },
  {
   "cell_type": "code",
   "execution_count": 4,
   "metadata": {},
   "outputs": [],
   "source": [
    "import pickle\n",
    "with open(\"../nb_outputs/news_20/missing_values_5.pkl\",\"rb\") as f:\n",
    "    missed_idx=pickle.load(f) #got this from nb_gnn \n",
    "# missed_idx #drop these values from plsa  #these are the index which are not in the baysian_topic_5 dataset "
   ]
  },
  {
   "cell_type": "code",
   "execution_count": 5,
   "metadata": {},
   "outputs": [],
   "source": [
    "# len(news_20)-len(missed_idx),len(bay)"
   ]
  },
  {
   "cell_type": "code",
   "execution_count": 6,
   "metadata": {},
   "outputs": [],
   "source": [
    "news_20=pd.read_csv(\"../datasets/20news.csv\")\n",
    "# print(news_20.shape,bay.shape[0]+len(missed_idx))\n",
    "#now using this information generate new indexes\n",
    "#from the original subtract(eliminate) the missing idx and the new idx \n",
    "original_idx=list(range(news_20.shape[0]))\n",
    "# print(len(original_idx))\n",
    "for item in missed_idx:\n",
    "    original_idx.remove(item)\n",
    "# len(original_idx),bay.shape"
   ]
  },
  {
   "cell_type": "code",
   "execution_count": 7,
   "metadata": {},
   "outputs": [],
   "source": [
    "# make a new column in bayes and append these indexes\n",
    "bay[\"index\"]=original_idx"
   ]
  },
  {
   "attachments": {},
   "cell_type": "markdown",
   "metadata": {},
   "source": [
    "# Now remove the rows which was not common to both the datasets"
   ]
  },
  {
   "cell_type": "code",
   "execution_count": 8,
   "metadata": {},
   "outputs": [],
   "source": [
    "bay_idx,plsa_5top_idx=set(bay[\"index\"]),set(plsa_5top[\"index\"])"
   ]
  },
  {
   "cell_type": "code",
   "execution_count": 9,
   "metadata": {},
   "outputs": [],
   "source": [
    "idx_to_keep=bay_idx.intersection(plsa_5top_idx)"
   ]
  },
  {
   "cell_type": "code",
   "execution_count": 10,
   "metadata": {},
   "outputs": [
    {
     "data": {
      "text/plain": [
       "10736"
      ]
     },
     "execution_count": 10,
     "metadata": {},
     "output_type": "execute_result"
    }
   ],
   "source": [
    "len(idx_to_keep)"
   ]
  },
  {
   "cell_type": "code",
   "execution_count": 11,
   "metadata": {},
   "outputs": [],
   "source": [
    "cleaned_bay=bay[bay[\"index\"].isin(idx_to_keep)]\n",
    "cleaned_plsa_5=plsa_5top[plsa_5top[\"index\"].isin(idx_to_keep)]\n"
   ]
  },
  {
   "cell_type": "code",
   "execution_count": 12,
   "metadata": {},
   "outputs": [],
   "source": [
    "temp=cleaned_plsa_5[\"index\"].to_list()\n",
    "for i in cleaned_bay[\"index\"].to_list():\n",
    "    if i not in temp:\n",
    "        print(i,\"what the fuck\")\n",
    "    # break"
   ]
  },
  {
   "cell_type": "code",
   "execution_count": 13,
   "metadata": {},
   "outputs": [
    {
     "data": {
      "text/plain": [
       "((10736, 6), (10736, 6))"
      ]
     },
     "execution_count": 13,
     "metadata": {},
     "output_type": "execute_result"
    }
   ],
   "source": [
    "cleaned_bay.shape,cleaned_plsa_5.shape"
   ]
  },
  {
   "cell_type": "code",
   "execution_count": 14,
   "metadata": {},
   "outputs": [],
   "source": [
    "cleaned_bay.index=cleaned_bay[\"index\"]\n",
    "cleaned_plsa_5.index=cleaned_plsa_5[\"index\"]"
   ]
  },
  {
   "cell_type": "code",
   "execution_count": 15,
   "metadata": {},
   "outputs": [
    {
     "name": "stderr",
     "output_type": "stream",
     "text": [
      "C:\\Users\\rbw19\\AppData\\Local\\Temp\\ipykernel_18060\\2972468246.py:1: SettingWithCopyWarning: \n",
      "A value is trying to be set on a copy of a slice from a DataFrame\n",
      "\n",
      "See the caveats in the documentation: https://pandas.pydata.org/pandas-docs/stable/user_guide/indexing.html#returning-a-view-versus-a-copy\n",
      "  cleaned_plsa_5.drop([\"index\"],axis=1,inplace=True)\n",
      "C:\\Users\\rbw19\\AppData\\Local\\Temp\\ipykernel_18060\\2972468246.py:2: SettingWithCopyWarning: \n",
      "A value is trying to be set on a copy of a slice from a DataFrame\n",
      "\n",
      "See the caveats in the documentation: https://pandas.pydata.org/pandas-docs/stable/user_guide/indexing.html#returning-a-view-versus-a-copy\n",
      "  cleaned_bay.drop([\"index\"],axis=1,inplace=True)\n"
     ]
    }
   ],
   "source": [
    "cleaned_plsa_5.drop([\"index\"],axis=1,inplace=True)\n",
    "cleaned_bay.drop([\"index\"],axis=1,inplace=True)"
   ]
  },
  {
   "cell_type": "code",
   "execution_count": 16,
   "metadata": {},
   "outputs": [],
   "source": [
    "# cleaned_bay"
   ]
  },
  {
   "cell_type": "code",
   "execution_count": 17,
   "metadata": {},
   "outputs": [],
   "source": [
    "# cleaned_plsa_5"
   ]
  },
  {
   "cell_type": "code",
   "execution_count": 18,
   "metadata": {},
   "outputs": [],
   "source": [
    "cleaned_plsa_5.columns=[str(i) for i in range(cleaned_plsa_5.shape[1])]"
   ]
  },
  {
   "attachments": {},
   "cell_type": "markdown",
   "metadata": {},
   "source": [
    "# Finding match accuracy without order"
   ]
  },
  {
   "cell_type": "code",
   "execution_count": 23,
   "metadata": {},
   "outputs": [
    {
     "name": "stdout",
     "output_type": "stream",
     "text": [
      "topics: 5\n",
      "n largest : 5\n",
      "Threshold is : 60\n",
      "read sucessfully\n",
      "accuracy : 100%\n",
      "result already shown\n",
      "topics: 5\n",
      "n largest : 5\n",
      "Threshold is : 80\n",
      "read sucessfully\n",
      "accuracy : 100%\n",
      "result already shown\n",
      "topics: 5\n",
      "n largest : 5\n",
      "Threshold is : 100\n",
      "read sucessfully\n",
      "accuracy : 100%\n",
      "result already shown\n"
     ]
    }
   ],
   "source": [
    "import pandas as pd\n",
    "\n",
    "def accuracy(n_largest,match_threshold,no_topics): #instead of gntm here we have PLSA or other probabilitic models\n",
    "\n",
    "    bay=cleaned_bay\n",
    "    gnt=cleaned_plsa_5 #changing the gntm to plsa\n",
    "    print(\"read sucessfully\")\n",
    "    # bay.drop([\"Unnamed: 0\"],axis=1,inplace=True) \n",
    "    # gnt.drop([\"Unnamed: 0\"],axis=1,inplace=True) \n",
    "    bay,gnt=bay.transpose(),gnt.transpose()\n",
    "    bay_top_3,gnt_top_3=[],[]\n",
    "\n",
    "    for col in range(bay.shape[1]):\n",
    "        try:\n",
    "            bay_top_3.append(bay.nlargest(n_largest,col).index) \n",
    "        except:\n",
    "            pass\n",
    "\n",
    "    for col in range(gnt.shape[1]):\n",
    "        try:\n",
    "            gnt_top_3.append(gnt.nlargest(n_largest,col).index)\n",
    "        except:\n",
    "            pass\n",
    "\n",
    "    bay_col_names=[]\n",
    "    gnt_col_names=[]\n",
    "    for i in range(1,n_largest+1):\n",
    "        bay_col_names.append(f'bay_top{str(i)}')\n",
    "        gnt_col_names.append(f'gnt_top{str(i)}')\n",
    "        \n",
    "    bay_top3_df=pd.DataFrame(bay_top_3,columns=bay_col_names)\n",
    "    gnt_top3_df=pd.DataFrame(gnt_top_3,columns=gnt_col_names)\n",
    "    final_matches=[]\n",
    "\n",
    "    for gnt_out,bay_out in zip(gnt_top_3,bay_top_3):\n",
    "        matches=[]\n",
    "        for out in gnt_out:\n",
    "            if out in bay_out:\n",
    "                matches.append(True)\n",
    "            else:\n",
    "                matches.append(False)\n",
    "        percentage_of_acc=(matches.count(True)/len(matches))*100\n",
    "\n",
    "        if percentage_of_acc >= match_threshold: \n",
    "            final_matches.append(True)\n",
    "        else:\n",
    "            final_matches.append(False)\n",
    "            \n",
    "    result=pd.concat([bay_top3_df,gnt_top3_df,pd.DataFrame(final_matches,columns=[\"match\"])],axis=1)\n",
    "    # decision=str(input(\"Do you want to save the o/p(yes/no)?\"))\n",
    "    decision=\"yes\"\n",
    "    if decision==\"Yes\" or decision==\"yes\" or decision==\"YES\":\n",
    "        file_name=str(input(\"enter file name :\"))\n",
    "        result.to_csv(f\"{file_name}.csv\")\n",
    "    \n",
    "    try:\n",
    "        result[\"match\"].value_counts()[True]\n",
    "    except:\n",
    "        print('accuracy : 0 % ')\n",
    "        \n",
    "    try:\n",
    "        result[\"match\"].value_counts()[False]\n",
    "    except:\n",
    "        print('accuracy : 100%')\n",
    "\n",
    "    try:\n",
    "        accuracy=result[\"match\"].value_counts()[True]/(result[\"match\"].value_counts()[True]+result[\"match\"].value_counts()[False])\n",
    "        print(\"The accuracy is :\",accuracy)\n",
    "        with open(f\"{no_topics}_plsa.txt\",\"a\") as op:\n",
    "            op.writelines(f\"\\n Number of topics : {no_topics} \\n N-largest : {n_largest} \\n Match Threshold :{match_threshold} \\n accuracy : {accuracy}\")\n",
    "    except:\n",
    "        print(\"result already shown\")\n",
    "\n",
    "\n",
    "\n",
    "topics=str(input(\"enter no. of topics :\"))\n",
    "n_largest=int(input(\"enter n_largest : \"))\n",
    "\n",
    "thres=[60,80,100]\n",
    "\n",
    "for threshold in thres:\n",
    "    print(\"topics:\",topics)\n",
    "    print(\"n largest :\",n_largest)\n",
    "    print(\"Threshold is :\",threshold)\n",
    "    accuracy(n_largest,threshold,topics)"
   ]
  },
  {
   "attachments": {},
   "cell_type": "markdown",
   "metadata": {},
   "source": [
    "# Problem solvong area"
   ]
  },
  {
   "cell_type": "code",
   "execution_count": null,
   "metadata": {},
   "outputs": [],
   "source": [
    "import pandas as pd\n",
    "\n",
    "\n",
    "n_largest=2\n",
    "threshold=60\n",
    "bay=cleaned_bay\n",
    "gnt=cleaned_plsa_5 #changing the gntm to plsa\n",
    "print(\"read sucessfully\")\n",
    "# bay.drop([\"Unnamed: 0\"],axis=1,inplace=True) \n",
    "# gnt.drop([\"Unnamed: 0\"],axis=1,inplace=True) \n",
    "bay,gnt=bay.transpose(),gnt.transpose()\n",
    "bay_top_3,gnt_top_3=[],[]\n",
    "for col in range(bay.shape[1]):\n",
    "    try:\n",
    "        bay_top_3.append(bay.nlargest(n_largest,col).index) \n",
    "    except:\n",
    "        pass\n",
    "for col in range(gnt.shape[1]):\n",
    "    try:\n",
    "        gnt_top_3.append(gnt.nlargest(n_largest,col).index)\n",
    "    except:\n",
    "        pass\n",
    "bay_col_names=[]\n",
    "gnt_col_names=[]\n",
    "for i in range(1,n_largest+1):\n",
    "    bay_col_names.append(f'bay_top{str(i)}')\n",
    "    gnt_col_names.append(f'gnt_top{str(i)}')\n",
    "    \n",
    "gnt_top_3\n",
    "\n"
   ]
  },
  {
   "cell_type": "code",
   "execution_count": null,
   "metadata": {},
   "outputs": [],
   "source": [
    "bay_top3_df=pd.DataFrame(bay_top_3,columns=bay_col_names)\n",
    "gnt_top3_df=pd.DataFrame(gnt_top_3,columns=gnt_col_names)\n",
    "\n",
    "gnt_top3_df"
   ]
  },
  {
   "cell_type": "code",
   "execution_count": null,
   "metadata": {},
   "outputs": [],
   "source": [
    "match_threshold=60"
   ]
  },
  {
   "cell_type": "code",
   "execution_count": null,
   "metadata": {},
   "outputs": [],
   "source": [
    "final_matches=[]\n",
    "for gnt_out,bay_out in zip(gnt_top_3,bay_top_3):\n",
    "    matches=[]\n",
    "    for out in gnt_out:\n",
    "        if out in bay_out:\n",
    "            matches.append(True)\n",
    "        else:\n",
    "            matches.append(False)\n",
    "    percentage_of_acc=(matches.count(True)/len(matches))*100\n",
    "    if percentage_of_acc >= match_threshold: \n",
    "        final_matches.append(True)\n",
    "    else:\n",
    "        final_matches.append(False)\n",
    "        \n",
    "result=pd.concat([bay_top3_df,gnt_top3_df,pd.DataFrame(final_matches,columns=[\"match\"])],axis=1)\n",
    "\n",
    "result\n",
    "\n",
    "decision=str(input(\"Do you want to save the o/p(yes/no)?\"))\n",
    "decision=\"yes\"\n",
    "if decision==\"Yes\" or decision==\"yes\" or decision==\"YES\":\n",
    "    file_name=str(input(\"enter file name :\"))\n",
    "    result.to_csv(f\"{file_name}.csv\")\n",
    "\n",
    "try:\n",
    "    result[\"match\"].value_counts()[True]\n",
    "except:\n",
    "    print('accuracy : 0 % ')\n",
    "try:\n",
    "    result[\"match\"].value_counts()[False]\n",
    "except:\n",
    "    print('accuracy : 100%')\n",
    "try:\n",
    "    accuracy=result[\"match\"].value_counts()[True]/(result[\"match\"].value_counts()[True]+result[\"match\"].value_counts()[False])\n",
    "    print(\"The accuracy is :\",accuracy)\n",
    "except:\n",
    "    print(\"result already shown\")\n",
    "# topics=str(input(\"enter no. of topics :\"))\n",
    "# n_largest=int(input(\"enter n_largest : \"))\n"
   ]
  },
  {
   "attachments": {},
   "cell_type": "markdown",
   "metadata": {},
   "source": [
    "# problem in py file"
   ]
  },
  {
   "cell_type": "code",
   "execution_count": 102,
   "metadata": {},
   "outputs": [
    {
     "data": {
      "text/html": [
       "<div>\n",
       "<style scoped>\n",
       "    .dataframe tbody tr th:only-of-type {\n",
       "        vertical-align: middle;\n",
       "    }\n",
       "\n",
       "    .dataframe tbody tr th {\n",
       "        vertical-align: top;\n",
       "    }\n",
       "\n",
       "    .dataframe thead th {\n",
       "        text-align: right;\n",
       "    }\n",
       "</style>\n",
       "<table border=\"1\" class=\"dataframe\">\n",
       "  <thead>\n",
       "    <tr style=\"text-align: right;\">\n",
       "      <th></th>\n",
       "      <th>topic_0</th>\n",
       "      <th>topic_1</th>\n",
       "      <th>topic_2</th>\n",
       "      <th>topic_3</th>\n",
       "      <th>topic_4</th>\n",
       "    </tr>\n",
       "    <tr>\n",
       "      <th>index</th>\n",
       "      <th></th>\n",
       "      <th></th>\n",
       "      <th></th>\n",
       "      <th></th>\n",
       "      <th></th>\n",
       "    </tr>\n",
       "  </thead>\n",
       "  <tbody>\n",
       "    <tr>\n",
       "      <th>2.0</th>\n",
       "      <td>0.459501</td>\n",
       "      <td>0.119614</td>\n",
       "      <td>0.231753</td>\n",
       "      <td>0.144837</td>\n",
       "      <td>0.044295</td>\n",
       "    </tr>\n",
       "    <tr>\n",
       "      <th>3.0</th>\n",
       "      <td>0.350112</td>\n",
       "      <td>0.156945</td>\n",
       "      <td>0.177958</td>\n",
       "      <td>0.263452</td>\n",
       "      <td>0.051532</td>\n",
       "    </tr>\n",
       "    <tr>\n",
       "      <th>4.0</th>\n",
       "      <td>0.116624</td>\n",
       "      <td>0.208942</td>\n",
       "      <td>0.111421</td>\n",
       "      <td>0.520003</td>\n",
       "      <td>0.043009</td>\n",
       "    </tr>\n",
       "    <tr>\n",
       "      <th>5.0</th>\n",
       "      <td>0.130336</td>\n",
       "      <td>0.411588</td>\n",
       "      <td>0.196238</td>\n",
       "      <td>0.143387</td>\n",
       "      <td>0.118451</td>\n",
       "    </tr>\n",
       "    <tr>\n",
       "      <th>7.0</th>\n",
       "      <td>0.180428</td>\n",
       "      <td>0.059939</td>\n",
       "      <td>0.065561</td>\n",
       "      <td>0.634044</td>\n",
       "      <td>0.060029</td>\n",
       "    </tr>\n",
       "  </tbody>\n",
       "</table>\n",
       "</div>"
      ],
      "text/plain": [
       "        topic_0   topic_1   topic_2   topic_3   topic_4\n",
       "index                                                  \n",
       "2.0    0.459501  0.119614  0.231753  0.144837  0.044295\n",
       "3.0    0.350112  0.156945  0.177958  0.263452  0.051532\n",
       "4.0    0.116624  0.208942  0.111421  0.520003  0.043009\n",
       "5.0    0.130336  0.411588  0.196238  0.143387  0.118451\n",
       "7.0    0.180428  0.059939  0.065561  0.634044  0.060029"
      ]
     },
     "execution_count": 102,
     "metadata": {},
     "output_type": "execute_result"
    }
   ],
   "source": [
    "cleaned_plsa_5.head(5)"
   ]
  },
  {
   "cell_type": "code",
   "execution_count": 103,
   "metadata": {},
   "outputs": [
    {
     "data": {
      "text/html": [
       "<div>\n",
       "<style scoped>\n",
       "    .dataframe tbody tr th:only-of-type {\n",
       "        vertical-align: middle;\n",
       "    }\n",
       "\n",
       "    .dataframe tbody tr th {\n",
       "        vertical-align: top;\n",
       "    }\n",
       "\n",
       "    .dataframe thead th {\n",
       "        text-align: right;\n",
       "    }\n",
       "</style>\n",
       "<table border=\"1\" class=\"dataframe\">\n",
       "  <thead>\n",
       "    <tr style=\"text-align: right;\">\n",
       "      <th></th>\n",
       "      <th>0</th>\n",
       "      <th>1</th>\n",
       "      <th>2</th>\n",
       "      <th>3</th>\n",
       "      <th>4</th>\n",
       "    </tr>\n",
       "    <tr>\n",
       "      <th>index</th>\n",
       "      <th></th>\n",
       "      <th></th>\n",
       "      <th></th>\n",
       "      <th></th>\n",
       "      <th></th>\n",
       "    </tr>\n",
       "  </thead>\n",
       "  <tbody>\n",
       "    <tr>\n",
       "      <th>2</th>\n",
       "      <td>0.090909</td>\n",
       "      <td>0.181818</td>\n",
       "      <td>0.181818</td>\n",
       "      <td>0.363636</td>\n",
       "      <td>0.181818</td>\n",
       "    </tr>\n",
       "    <tr>\n",
       "      <th>3</th>\n",
       "      <td>0.111111</td>\n",
       "      <td>0.222222</td>\n",
       "      <td>0.222222</td>\n",
       "      <td>0.222222</td>\n",
       "      <td>0.222222</td>\n",
       "    </tr>\n",
       "    <tr>\n",
       "      <th>4</th>\n",
       "      <td>0.125000</td>\n",
       "      <td>0.250000</td>\n",
       "      <td>0.125000</td>\n",
       "      <td>0.250000</td>\n",
       "      <td>0.250000</td>\n",
       "    </tr>\n",
       "    <tr>\n",
       "      <th>5</th>\n",
       "      <td>0.166667</td>\n",
       "      <td>0.166667</td>\n",
       "      <td>0.333333</td>\n",
       "      <td>0.166667</td>\n",
       "      <td>0.166667</td>\n",
       "    </tr>\n",
       "    <tr>\n",
       "      <th>7</th>\n",
       "      <td>0.470588</td>\n",
       "      <td>0.235294</td>\n",
       "      <td>0.029412</td>\n",
       "      <td>0.029412</td>\n",
       "      <td>0.235294</td>\n",
       "    </tr>\n",
       "  </tbody>\n",
       "</table>\n",
       "</div>"
      ],
      "text/plain": [
       "              0         1         2         3         4\n",
       "index                                                  \n",
       "2      0.090909  0.181818  0.181818  0.363636  0.181818\n",
       "3      0.111111  0.222222  0.222222  0.222222  0.222222\n",
       "4      0.125000  0.250000  0.125000  0.250000  0.250000\n",
       "5      0.166667  0.166667  0.333333  0.166667  0.166667\n",
       "7      0.470588  0.235294  0.029412  0.029412  0.235294"
      ]
     },
     "execution_count": 103,
     "metadata": {},
     "output_type": "execute_result"
    }
   ],
   "source": [
    "cleaned_bay.head(5)"
   ]
  },
  {
   "cell_type": "code",
   "execution_count": null,
   "metadata": {},
   "outputs": [],
   "source": [
    "cleaned_plsa_5.head(5)"
   ]
  },
  {
   "cell_type": "code",
   "execution_count": 100,
   "metadata": {},
   "outputs": [
    {
     "name": "stdout",
     "output_type": "stream",
     "text": [
      "read sucessfully\n"
     ]
    }
   ],
   "source": [
    "\n",
    "\n",
    "bay=cleaned_bay\n",
    "plsa=cleaned_plsa_5 #changing the gntm to plsa\n",
    "print(\"read sucessfully\")\n",
    "# bay.drop([\"Unnamed: 0\"],axis=1,inplace=True) \n",
    "# gnt.drop([\"Unnamed: 0\"],axis=1,inplace=True) \n",
    "bay,plsa=bay.transpose(),plsa.transpose()\n",
    "bay_top_3,plsa_top_3=[],[]\n",
    "for col in range(bay.shape[1]):\n",
    "    try:\n",
    "        bay_top_3.append(bay.nlargest(n_largest,col).index) \n",
    "    except:\n",
    "        pass\n",
    "for col in range(plsa.shape[1]):\n",
    "    try:\n",
    "        plsa_top_3.append(plsa.nlargest(n_largest,col).index)\n",
    "    except:\n",
    "        pass\n",
    "bay_col_names=[]\n",
    "plsa_col_names=[]\n",
    "for i in range(1,n_largest+1):\n",
    "    bay_col_names.append(f'bay_top{str(i)}')\n",
    "    plsa_col_names.append(f'plsa_top{str(i)}')\n",
    "    \n",
    "bay_top3_df=pd.DataFrame(bay_top_3,columns=bay_col_names)\n",
    "plsa_top3_df=pd.DataFrame(plsa_top_3,columns=plsa_col_names)\n"
   ]
  },
  {
   "cell_type": "code",
   "execution_count": 105,
   "metadata": {},
   "outputs": [
    {
     "data": {
      "text/html": [
       "<div>\n",
       "<style scoped>\n",
       "    .dataframe tbody tr th:only-of-type {\n",
       "        vertical-align: middle;\n",
       "    }\n",
       "\n",
       "    .dataframe tbody tr th {\n",
       "        vertical-align: top;\n",
       "    }\n",
       "\n",
       "    .dataframe thead th {\n",
       "        text-align: right;\n",
       "    }\n",
       "</style>\n",
       "<table border=\"1\" class=\"dataframe\">\n",
       "  <thead>\n",
       "    <tr style=\"text-align: right;\">\n",
       "      <th></th>\n",
       "      <th>bay_top1</th>\n",
       "      <th>bay_top2</th>\n",
       "    </tr>\n",
       "  </thead>\n",
       "  <tbody>\n",
       "    <tr>\n",
       "      <th>0</th>\n",
       "      <td>3</td>\n",
       "      <td>1</td>\n",
       "    </tr>\n",
       "    <tr>\n",
       "      <th>1</th>\n",
       "      <td>1</td>\n",
       "      <td>2</td>\n",
       "    </tr>\n",
       "    <tr>\n",
       "      <th>2</th>\n",
       "      <td>1</td>\n",
       "      <td>3</td>\n",
       "    </tr>\n",
       "    <tr>\n",
       "      <th>3</th>\n",
       "      <td>2</td>\n",
       "      <td>0</td>\n",
       "    </tr>\n",
       "    <tr>\n",
       "      <th>4</th>\n",
       "      <td>0</td>\n",
       "      <td>1</td>\n",
       "    </tr>\n",
       "    <tr>\n",
       "      <th>...</th>\n",
       "      <td>...</td>\n",
       "      <td>...</td>\n",
       "    </tr>\n",
       "    <tr>\n",
       "      <th>6080</th>\n",
       "      <td>0</td>\n",
       "      <td>1</td>\n",
       "    </tr>\n",
       "    <tr>\n",
       "      <th>6081</th>\n",
       "      <td>3</td>\n",
       "      <td>0</td>\n",
       "    </tr>\n",
       "    <tr>\n",
       "      <th>6082</th>\n",
       "      <td>2</td>\n",
       "      <td>0</td>\n",
       "    </tr>\n",
       "    <tr>\n",
       "      <th>6083</th>\n",
       "      <td>2</td>\n",
       "      <td>4</td>\n",
       "    </tr>\n",
       "    <tr>\n",
       "      <th>6084</th>\n",
       "      <td>3</td>\n",
       "      <td>0</td>\n",
       "    </tr>\n",
       "  </tbody>\n",
       "</table>\n",
       "<p>6085 rows × 2 columns</p>\n",
       "</div>"
      ],
      "text/plain": [
       "     bay_top1 bay_top2\n",
       "0           3        1\n",
       "1           1        2\n",
       "2           1        3\n",
       "3           2        0\n",
       "4           0        1\n",
       "...       ...      ...\n",
       "6080        0        1\n",
       "6081        3        0\n",
       "6082        2        0\n",
       "6083        2        4\n",
       "6084        3        0\n",
       "\n",
       "[6085 rows x 2 columns]"
      ]
     },
     "execution_count": 105,
     "metadata": {},
     "output_type": "execute_result"
    }
   ],
   "source": [
    "plsa_top3_df"
   ]
  },
  {
   "cell_type": "code",
   "execution_count": 106,
   "metadata": {},
   "outputs": [],
   "source": [
    "final_matches=[]\n",
    "for plsa_out,bay_out in zip(plsa_top_3,bay_top_3):\n",
    "    matches=[]\n",
    "    for out in plsa_out:\n",
    "        if out in bay_out:\n",
    "            matches.append(True)\n",
    "        else:\n",
    "            matches.append(False)\n",
    "    percentage_of_acc=(matches.count(True)/len(matches))*100\n",
    "    if percentage_of_acc >= match_threshold: \n",
    "        final_matches.append(True)\n",
    "    else:\n",
    "        final_matches.append(False)\n",
    "        \n",
    "result=pd.concat([bay_top3_df,plsa_top3_df,pd.DataFrame(final_matches,columns=[\"match\"])],axis=1)\n"
   ]
  },
  {
   "cell_type": "code",
   "execution_count": 107,
   "metadata": {},
   "outputs": [
    {
     "name": "stdout",
     "output_type": "stream",
     "text": [
      "accuracy : 0 % \n",
      "result already shown\n"
     ]
    }
   ],
   "source": [
    "# decision=str(input(\"Do you want to save the o/p(yes/no)?\"))\n",
    "decision=\"yes\"\n",
    "if decision==\"Yes\" or decision==\"yes\" or decision==\"YES\":\n",
    "    file_name=str(input(\"enter file name :\"))\n",
    "    result.to_csv(f\"{file_name}.csv\")\n",
    "\n",
    "try:\n",
    "    result[\"match\"].value_counts()[True]\n",
    "except:\n",
    "    print('accuracy : 0 % ')\n",
    "try:\n",
    "    result[\"match\"].value_counts()[False]\n",
    "except:\n",
    "    print('accuracy : 100%')\n",
    "try:\n",
    "    accuracy=result[\"match\"].value_counts()[True]/(result[\"match\"].value_counts()[True]+result[\"match\"].value_counts()[False])\n",
    "    print(\"The accuracy is :\",accuracy)\n",
    "    with open(f\"{no_topics}_plsa.txt\",\"a\") as op:\n",
    "        op.writelines(f\"\\n Number of topics : {no_topics} \\n N-largest : {n_largest} \\n Match Threshold :{match_threshold} \\n accuracy : {accuracy}\")\n",
    "except:\n",
    "    print(\"result already shown\")"
   ]
  }
 ],
 "metadata": {
  "kernelspec": {
   "display_name": "machine_learning",
   "language": "python",
   "name": "python3"
  },
  "language_info": {
   "codemirror_mode": {
    "name": "ipython",
    "version": 3
   },
   "file_extension": ".py",
   "mimetype": "text/x-python",
   "name": "python",
   "nbconvert_exporter": "python",
   "pygments_lexer": "ipython3",
   "version": "3.8.11"
  },
  "orig_nbformat": 4
 },
 "nbformat": 4,
 "nbformat_minor": 2
}
